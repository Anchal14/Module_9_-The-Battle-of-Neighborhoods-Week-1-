{
    "cells": [
        {
            "metadata": {
                "collapsed": true
            },
            "cell_type": "markdown",
            "source": "# Background of the problem\n\nThe City of New York, is thefinancial capital of USA and the most populous city. It is diverse and multicultural. Due to the fact it has attracted many different bisness into the market. It is a global hub of business and commerce. The city is a major center for banking and finance, retailing, world trade, transportation, tourism, real estate, new media, traditional media, advertising, legal services, accountancy, insurance, theater, fashion, and the arts in the United States.\nThis also means that the market is highly competitive. As it is highly developed city so cost of doing business is also one of the highest. hence, any new business venture or expansion needs to be analysed carefully. The insights derived from analysis will give good understanding of the business environment which help in strategically targeting the market. This will help in reduction of risk. And the Return on Investment will be reasonable.\n"
        },
        {
            "metadata": {},
            "cell_type": "markdown",
            "source": "# Problem Statment \n\nThe idea of this study is to help people planning to open a new restaurant in New York to chose the right location by providing data about the income and population of each neighborhood as well as the competitors already present on the same are regions.\n"
        },
        {
            "metadata": {},
            "cell_type": "markdown",
            "source": "# Data \n\nData analysis Process will be done on 'Newyork' City.\n\nWe will be using the below datasets for analysing Newyork city\n\nData 1:  to get the detials of Neighborhood we will be using below link.\nLink to the dataset is : https://geo.nyu.edu/catalog/nyu_2451_34572\n\nData 2: to understand given below points:\n\nNew York Population\nNew York City Demographics\nCuisine of New York city\n\nhttps://en.wikipedia.org/wiki/New_York_City\nhttps://en.wikipedia.org/wiki/Economy_of_New_York_City\nhttps://en.wikipedia.org/wiki/Portal:New_York_City\nhttps://en.wikipedia.org/wiki/Cuisine_of_New_York_City\nhttps://en.wikipedia.org/wiki/List_of_Michelin_starred_restaurants_in_New_York_City\n\nData 4: Newyork city geographical coordinates data will be utilized as input for the Foursquare API"
        },
        {
            "metadata": {},
            "cell_type": "code",
            "source": "",
            "execution_count": null,
            "outputs": []
        }
    ],
    "metadata": {
        "kernelspec": {
            "name": "python3",
            "display_name": "Python 3.6",
            "language": "python"
        },
        "language_info": {
            "name": "python",
            "version": "3.6.9",
            "mimetype": "text/x-python",
            "codemirror_mode": {
                "name": "ipython",
                "version": 3
            },
            "pygments_lexer": "ipython3",
            "nbconvert_exporter": "python",
            "file_extension": ".py"
        }
    },
    "nbformat": 4,
    "nbformat_minor": 1
}